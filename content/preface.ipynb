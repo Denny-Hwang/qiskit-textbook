{
 "cells": [
  {
   "cell_type": "markdown",
   "metadata": {
    "tags": [
     "preface-cell",
     "preface-title"
    ]
   },
   "source": [
    "<title>Qiskit을 이용하여 양자 컴퓨팅 배우기</title>\n",
    "<div class=\"preface-top\">\n",
    "    <div class=\"preface-checker-pattern\"></div>\n",
    "<div class=\"preface-summary\">\n",
    "  <aside class=\"preface-summary-image\"><img src=\"images/preface_illustration_2.svg\"></aside>\n",
    "  <div class=\"preface-summary-text\">\n",
    "     <p>\n",
    "      Qiskit 커뮤니티 팀에서 인사드립니다! 이 교재는 Qiskit을 활용한 대학교 양자 알고리즘/컴퓨팅 과정의 보조교재로 다음을 학습하는데 유용합니다 : </p>\n",
    "      <ol>\n",
    "          <li>양자 알고리즘의 기본 수학</li>\n",
    "          <li>비내결함성(non-fault-tolerant) 양자 장치의 최신 정보</li>\n",
    "          <li>Qiskit을 활용한 코딩으로 IBM 클라우드 양자 시스템에서 양자 알고리즘 구현하기</li>\n",
    "      </ol>\n",
    "</div>\n",
    "    <a href=\"https://qiskit.org/textbook/ch-states/introduction.html\"><button class=\"preface-button read-textbook\">교재 읽기 <span class=\"rangle\"><img src=\"/textbook/assets/images/rightarrow.svg\"></span></button></a>\n",
    "</div>"
   ]
  },
  {
   "cell_type": "markdown",
   "metadata": {
    "tags": [
     "preface-cell"
    ]
   },
   "source": [
    "# 교재 소개\n",
    "\n",
    "<p>이 교재는 무료 온라인 교재로, Qiskit SDK의 사용법을 배우면서 양자 컴퓨팅의 개념을 배울 수 있습니다.</p>\n",
    "\n",
    "## 대화식으로 코드 실행하기\n",
    "\n",
    "<p>이 교재는 가독성이 좋은 jupyter 노트북 프레임워크를 기반으로 만들어졌으며, 독자가 교재에서 바로 코드를 편집하고 실행할 수 있습니다. 각 챕터는 Jupyter 노트북으로 열 수 있으며 <a href=\"https://quantum-computing.ibm.com/jupyter\">IBM Quantum Experience</a>, 설치가 필요 없습니다!</p>"
   ]
  },
  {
   "cell_type": "code",
   "execution_count": null,
   "metadata": {
    "tags": [
     "preface-code-cell"
    ]
   },
   "outputs": [],
   "source": [
    "# Click 'try', then 'run' to see the output,\n",
    "# you can change the code and run it again.\n",
    "print(\"This code works!\")\n",
    "from qiskit import QuantumCircuit\n",
    "qc = QuantumCircuit(2) # Create circuit with 2 qubits\n",
    "qc.h(0)    # Do H-gate on q0\n",
    "qc.cx(0,1) # Do CNOT on q1 controlled by q0\n",
    "qc.measure_all()\n",
    "qc.draw()"
   ]
  },
  {
   "cell_type": "markdown",
   "metadata": {
    "tags": [
     "preface-cell"
    ]
   },
   "source": [
    "<a href=\"https://qiskit.org/textbook/widgets-index.html\"><button class=\"preface-button\">Interactivity Tour<span class=\"rangle\"><img src=\"/textbook/assets/images/rightarrow.svg\"></span></button></a>\n",
    "\n",
    "## Learn with Real Quantum Systems\n",
    "\n",
    "<p>The best way to learn is by doing. Qiskit allows users to run experiments on state-of-the-art quantum devices from the comfort of their homes. The textbook teaches not only theoretical quantum computing but the experimental quantum physics that realises it.</p>\n",
    "\n",
    "<img src=\"images/preface-hw-example.png\" class=\"preface-image\">\n",
    "\n",
    "<a href=\"https://qiskit.org/textbook/ch-quantum-hardware/accessing_higher_energy_states.html\"><button class=\"preface-button\">See Example: Accessing Higher Level States<span class=\"rangle\"><img src=\"/textbook/assets/images/rightarrow.svg\"></span></button></a>\n",
    "\n",
    "# Using the Textbook\n",
    "\n",
    "<p>If you're reading the textbook independently, you don't have to read it all in order, but we recommend you read chapters 1-3 first.</p>\n",
    "\n",
    "## Curriculum Integration\n",
    "\n",
    "<p>The textbook can be followed as an independent course, however, it has been designed to accompany a traditional university course. The textbook shows students how to use Qiskit to experiment with quantum algorithms and hardware, and uses this to reinforce their understanding.\n",
    "</p>\n",
    "\n",
    "<img src=\"images/curriculum.svg\" class=\"preface-image\">\n",
    "\n",
    "## Use the Textbook in Your Course\n",
    "\n",
    "If you are using the Qiskit Textbook in your course, you can join the IBM Quantum Educators Program. The Program provides:\n",
    "\n",
    "<ul class=\"preface-list\">\n",
    "<li> The ability to reserve time for priority access to our open systems for in-class demonstrations </li>\n",
    "<li> Access to additional premium systems beyond our open systems</li>\n",
    "<li> Access to a 5-qubit system with full microwave control using Qiskit Pulse</li>\n",
    "</ul>\n",
    "    \n",
    "<a href=\"https://quantum-computing.ibm.com/programs/educators\"><button class=\"preface-button\">Sign Up for the IBM Quantum Educators Program<span class=\"rangle\"><img src=\"/textbook/assets/images/rightarrow.svg\"></span></button></a>\n",
    "\n",
    "#  Contact\n",
    "\n",
    "<p> If you have any questions or suggestions about the textbook or would like to incorporate it into your curriculum, please contact Frank Harkins <a href=\"mailto:Francis.Harkins@ibm.com\">(Francis.Harkins@ibm.com)</a>. In the true spirit of open-source, any chapter contributions are welcome in this GitHub repository.</p>\n",
    "    \n",
    "# Contributors\n",
    "\n",
    "<p> Learn Quantum Computation using Qiskit is the work of several individuals. If you use it in your work, cite it using <a href=\"https://github.com/qiskit-community/qiskit-textbook/blob/main/content/qiskit-textbook.bib\">this bib file</a> or directly as:</p>\n",
    "<p><i>\n",
    "Abraham Asfaw, Antonio Córcoles, Luciano Bello, Yael Ben-Haim, Mehdi Bozzo-Rey, Sergey Bravyi, Nicholas Bronn, Lauren Capelluto, Almudena Carrera Vazquez, Jack Ceroni, Richard Chen, Albert Frisch, Jay Gambetta, Shelly Garion, Leron Gil, Salvador De La Puente Gonzalez, Francis Harkins, Takashi Imamichi, Hwajung Kang, Amir h. Karamlou, Robert Loredo, David McKay, Antonio Mezzacapo, Zlatko Minev, Ramis Movassagh, Giacomo Nannicini, Paul Nation, Anna Phan, Marco Pistoia, Arthur Rattew, Joachim Schaefer, Javad Shabani, John Smolin, John Stenger, Kristan Temme, Madeleine Tod, Stephen Wood, James Wootton.</i></p>"
   ]
  },
  {
   "cell_type": "code",
   "execution_count": null,
   "metadata": {},
   "outputs": [],
   "source": []
  }
 ],
 "metadata": {
  "kernelspec": {
   "display_name": "Python 3",
   "language": "python",
   "name": "python3"
  },
  "language_info": {
   "codemirror_mode": {
    "name": "ipython",
    "version": 3
   },
   "file_extension": ".py",
   "mimetype": "text/x-python",
   "name": "python",
   "nbconvert_exporter": "python",
   "pygments_lexer": "ipython3",
   "version": "3.7.7"
  }
 },
 "nbformat": 4,
 "nbformat_minor": 4
}
